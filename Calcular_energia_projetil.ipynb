{
  "nbformat": 4,
  "nbformat_minor": 0,
  "metadata": {
    "colab": {
      "provenance": [],
      "include_colab_link": true
    },
    "kernelspec": {
      "name": "python3",
      "display_name": "Python 3"
    },
    "language_info": {
      "name": "python"
    }
  },
  "cells": [
    {
      "cell_type": "markdown",
      "metadata": {
        "id": "view-in-github",
        "colab_type": "text"
      },
      "source": [
        "<a href=\"https://colab.research.google.com/github/cezarneto/python/blob/main/Calcular_energia_projetil.ipynb\" target=\"_parent\"><img src=\"https://colab.research.google.com/assets/colab-badge.svg\" alt=\"Open In Colab\"/></a>"
      ]
    },
    {
      "cell_type": "code",
      "execution_count": null,
      "metadata": {
        "id": "G6jpsb_z5ARk",
        "colab": {
          "base_uri": "https://localhost:8080/"
        },
        "outputId": "02f154c7-7225-448d-d823-6e0a5311c45f"
      },
      "outputs": [
        {
          "output_type": "stream",
          "name": "stdout",
          "text": [
            "Digite a massa do projetil em grains: 180\n",
            "Digite a velocidade do projetil em m/s: 312\n",
            "A energia deste calibre é: 568.0 joules\n"
          ]
        }
      ],
      "source": [
        "def calcular_energia_calibre(massa, velocidade):\n",
        "    # Fórmula: Ec = (m.v²)/30860 *Sistema métrico*\n",
        "    energia = (massa * velocidade**2) / 30860\n",
        "    return energia\n",
        "\n",
        "def arredondar_resultado(energia_calibre):\n",
        "    # Arredonda o resultado para X casas decimais, usei zero neste script\n",
        "    return round(energia_calibre, 0)\n",
        "\n",
        "# Entrada do usuário para massa e velocidade\n",
        "massa = float(input(\"Digite a massa do projetil em grains: \"))\n",
        "velocidade = float(input(\"Digite a velocidade do projetil em m/s: \"))\n",
        "\n",
        "# Chamada da função para calcular a energia\n",
        "energia_calibre = calcular_energia_calibre(massa, velocidade)\n",
        "\n",
        "# Chamada da função para arredondar o resultado\n",
        "energia_calibre_arredondada = arredondar_resultado(energia_calibre)\n",
        "\n",
        "# Exibição do resultado usando uma f-string\n",
        "print(f\"A energia deste calibre é: {energia_calibre_arredondada} joules\")\n"
      ]
    }
  ]
}