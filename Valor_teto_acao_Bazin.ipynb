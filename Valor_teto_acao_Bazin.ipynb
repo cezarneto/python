{
  "nbformat": 4,
  "nbformat_minor": 0,
  "metadata": {
    "colab": {
      "provenance": [],
      "authorship_tag": "ABX9TyMwOiSnLBuuphDX2KcuWL9e",
      "include_colab_link": true
    },
    "kernelspec": {
      "name": "python3",
      "display_name": "Python 3"
    },
    "language_info": {
      "name": "python"
    }
  },
  "cells": [
    {
      "cell_type": "markdown",
      "metadata": {
        "id": "view-in-github",
        "colab_type": "text"
      },
      "source": [
        "<a href=\"https://colab.research.google.com/github/cezarneto/python/blob/main/Valor_teto_acao_Bazin.ipynb\" target=\"_parent\"><img src=\"https://colab.research.google.com/assets/colab-badge.svg\" alt=\"Open In Colab\"/></a>"
      ]
    },
    {
      "cell_type": "code",
      "execution_count": null,
      "metadata": {
        "id": "yMoZO7ePYCUU"
      },
      "outputs": [],
      "source": [
        "def calcular_preco_teto_bazin(valor_dividendos):\n",
        "\n",
        "  if not isinstance(valor_dividendos, float):\n",
        "    raise ValueError(\"O valor dos dividendos deve ser um número.\")\n",
        "  if valor_dividendos < 0:\n",
        "    raise ValueError(\"O valor dos dividendos não pode ser negativo.\")\n",
        "\n",
        "  taxa_desconto = 6 / 100\n",
        "\n",
        "  return valor_dividendos / taxa_desconto\n",
        "\n",
        "def main():\n",
        "\n",
        "  valor_dividendos = float(input(\"Digite o valor médio dos últimos 5 anos dos dividendos da ação: \"))\n",
        "\n",
        "  preco_teto = calcular_preco_teto_bazin(valor_dividendos) #Método Décio Bazin\n",
        "\n",
        "  print(f\"Preço teto da ação: R$ {preco_teto:.2f}\")\n",
        "\n",
        "if __name__ == \"__main__\":\n",
        "  main()\n"
      ]
    }
  ]
}