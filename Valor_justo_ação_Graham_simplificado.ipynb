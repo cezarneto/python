{
  "nbformat": 4,
  "nbformat_minor": 0,
  "metadata": {
    "colab": {
      "provenance": [],
      "authorship_tag": "ABX9TyMoKzWUTlGWj0D6b41zqZSq",
      "include_colab_link": true
    },
    "kernelspec": {
      "name": "python3",
      "display_name": "Python 3"
    },
    "language_info": {
      "name": "python"
    }
  },
  "cells": [
    {
      "cell_type": "markdown",
      "metadata": {
        "id": "view-in-github",
        "colab_type": "text"
      },
      "source": [
        "<a href=\"https://colab.research.google.com/github/cezarneto/python/blob/main/Valor_justo_a%C3%A7%C3%A3o_Graham_simplificado.ipynb\" target=\"_parent\"><img src=\"https://colab.research.google.com/assets/colab-badge.svg\" alt=\"Open In Colab\"/></a>"
      ]
    },
    {
      "cell_type": "code",
      "execution_count": null,
      "metadata": {
        "colab": {
          "base_uri": "https://localhost:8080/"
        },
        "id": "oOx7eg-y9fHl",
        "outputId": "2ad225e5-95dd-4e2d-eb26-e29151d532aa"
      },
      "outputs": [
        {
          "output_type": "stream",
          "name": "stdout",
          "text": [
            "Digite o LPA: 0.92\n",
            "Digite o VPA: 5.01\n",
            "O preço justo da ação é: R$10.18\n"
          ]
        }
      ],
      "source": [
        "def calcular_preco_justo(lpa, vpa):\n",
        "\n",
        "  import math\n",
        "  vi = math.sqrt(22.5 * lpa * vpa)\n",
        "  return vi\n",
        "\n",
        "lpa = float(input(\"Digite o LPA: \")) #LPA = Lucro Por Ação\n",
        "vpa = float(input(\"Digite o VPA: \")) #VPA = Valor Patrimonial por Ação\n",
        "\n",
        "preco_justo = calcular_preco_justo(lpa, vpa)\n",
        "\n",
        "print(f\"O preço justo da ação é: R${preco_justo:.2f}\") #Método Graham\n"
      ]
    }
  ]
}